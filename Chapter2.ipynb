{
 "cells": [
  {
   "cell_type": "code",
   "execution_count": null,
   "id": "9d2f01df-e2a9-4b2c-8cc6-fc4b9af2cdce",
   "metadata": {},
   "outputs": [
    {
     "name": "stdout",
     "output_type": "stream",
     "text": [
      "A Upper String is: HELLO\n",
      "A Lower String is : hello\n",
      "A Title String is : Hello\n"
     ]
    }
   ],
   "source": [
    "#Bài 1\n",
    "st = input(\"Enter your string:\")\n",
    "st_upper = st.upper()\n",
    "st_lower = st.lower()\n",
    "st_title = st.title()\n",
    "\n",
    "print(\"A Upper String is: \" + st_upper)\n",
    "print(\"A Lower String is : \" + st_lower)\n",
    "print(\"A Title String is : \" + st_title)"
   ]
  },
  {
   "cell_type": "code",
   "execution_count": null,
   "id": "2208cd36-d314-4927-9fb5-55bc689b501e",
   "metadata": {},
   "outputs": [
    {
     "name": "stdout",
     "output_type": "stream",
     "text": [
      "gmail.com\n"
     ]
    }
   ],
   "source": [
    "#Bài 2\n",
    "data = \"minhnhutvh@gmail.com\"\n",
    "position = data.find(\"@\")               \n",
    "host = data[position +1 :]\n",
    "print(host)\n"
   ]
  },
  {
   "cell_type": "code",
   "execution_count": null,
   "id": "c60f43e5-e0ba-4f2f-be62-a3df3ed218a8",
   "metadata": {},
   "outputs": [
    {
     "name": "stdout",
     "output_type": "stream",
     "text": [
      "gmail.com\n"
     ]
    }
   ],
   "source": [
    "#Bài 3\n",
    "data = \"minhnhutvh@gmail.com Sat Jan 5 09:14:16\"\n",
    "Start_position = data.find(\"@\")                #  10\n",
    "End_position = data.find(\" \", Start_position)  #  26\n",
    "host = data[Start_position +1 : End_position]\n",
    "print(host)\n"
   ]
  },
  {
   "cell_type": "code",
   "execution_count": null,
   "id": "4a1b2728-50bc-488b-9e8d-db3b27daf173",
   "metadata": {},
   "outputs": [
    {
     "name": "stdout",
     "output_type": "stream",
     "text": [
      "I love java\n"
     ]
    }
   ],
   "source": [
    "#Bài 4\n",
    "st1 = input(\"Enter your string: \")\n",
    "st2 = input(\" Enter the word that needs to replace: \")\n",
    "st3 = input(\" Enter the word after being replaced: \")\n",
    "st1 = st1.replace(st2,st3)\n",
    "\n",
    "print(st1)\n"
   ]
  },
  {
   "cell_type": "code",
   "execution_count": null,
   "id": "d7e501cf-58a4-4d4d-bc28-6c8d4b93ce7a",
   "metadata": {},
   "outputs": [
    {
     "name": "stdout",
     "output_type": "stream",
     "text": [
      "First five characters are: Hello\n",
      "Last five characters are: oWord\n",
      "Four strings of one line are: HelloWord HelloWord HelloWord HelloWord \n",
      "Four strings of four line are: \n",
      "HelloWord\n",
      "HelloWord\n",
      "HelloWord\n",
      "HelloWord\n",
      "\n"
     ]
    }
   ],
   "source": [
    "#Bài 5\n",
    "st = input (\"Enter your string:\")\n",
    "First_five_characters = st[:5]\n",
    "Last_five_characters = st[len(st)-5:]\n",
    "str_1_line = 4 * (st + \" \")\n",
    "str_4_line = 4 * (st + \"\\n\")\n",
    "\n",
    "print(\"First five characters are: \" + First_five_characters)\n",
    "print(\"Last five characters are: \" + Last_five_characters)\n",
    "print(\"Four strings of one line are: \" + str_1_line)\n",
    "print(\"Four strings of four line are: \\n\" + str_4_line)"
   ]
  },
  {
   "cell_type": "code",
   "execution_count": null,
   "id": "8a3faa7e-1d01-4338-ae8d-0b3aa8e348c0",
   "metadata": {},
   "outputs": [
    {
     "name": "stdout",
     "output_type": "stream",
     "text": [
      "Thể tích hình trụ là: 141.3716694115407\n"
     ]
    }
   ],
   "source": [
    "#Bài 6\n",
    "import math \n",
    "r = float ( input (\"Nhập bán kính r:\"))\n",
    "h = float (input (\"Nhập chiều cao h:\"))\n",
    "V= math.pi *(r**2)*h \n",
    "\n",
    "print(\"Thể tích hình trụ là:\", V)"
   ]
  },
  {
   "cell_type": "code",
   "execution_count": null,
   "id": "526ee8fb",
   "metadata": {},
   "outputs": [],
   "source": [
    "#Bài 7\n",
    "import math\n",
    "\n",
    "a = float(input(\"Nhập cạnh a: \"))\n",
    "b = float(input(\"Nhập cạnh b: \"))\n",
    "c = float(input(\"Nhập cạnh c: \"))\n",
    "\n",
    "A = float(input(\"Nhập góc A: \"))\n",
    "B = float(input(\"Nhập góc B: \"))\n",
    "C = float(input(\"Nhập góc C: \"))\n",
    "\n",
    "# Tính diện tích theo 3 công thức\n",
    "S1 = 0.5 * a * b * math.sin(C)\n",
    "S2 = 0.5 * a * c * math.sin(B)\n",
    "S3 = 0.5 * b * c * math.sin(A)\n",
    "\n",
    "print(\"Diện tích tam giác theo công thức 1/2 * a * b * sin(C):\", S1)\n",
    "print(\"Diện tích tam giác theo công thức 1/2 * a * c * sin(B):\", S2)\n",
    "print(\"Diện tích tam giác theo công thức 1/2 * b * c * sin(A):\", S3)"
   ]
  },
  {
   "cell_type": "code",
   "execution_count": null,
   "id": "f0af4e3e",
   "metadata": {},
   "outputs": [
    {
     "name": "stdout",
     "output_type": "stream",
     "text": [
      "Diện tích tam giác đều là: 15.588457268119894\n"
     ]
    }
   ],
   "source": [
    "#Bài 8\n",
    "import math\n",
    "\n",
    "a = float(input(\"Nhập cạnh tam giác đều a: \"))\n",
    "\n",
    "S = (a ** 2) * math.sqrt(3) / 4\n",
    "\n",
    "print(\"Diện tích tam giác đều là:\", S)\n"
   ]
  },
  {
   "cell_type": "code",
   "execution_count": 40,
   "id": "324fb0ff",
   "metadata": {},
   "outputs": [
    {
     "name": "stdout",
     "output_type": "stream",
     "text": [
      "Diện tích tam giác (Bài 7 ): 15.588457268119894\n",
      "Diện tích tam giác (Bài 8 ): 15.588457268119894\n",
      " Kết quả Bài 7 và Bài 8 giống nhau.\n"
     ]
    }
   ],
   "source": [
    "#Bài 9\n",
    "import math\n",
    "\n",
    "a = float(input(\"Nhập cạnh tam giác đều: \"))\n",
    "\n",
    "b = c = a\n",
    "\n",
    "C = math.pi / 3  \n",
    "\n",
    "S_bai7 = 0.5 * a * b * math.sin(C)\n",
    "\n",
    "\n",
    "S_bai8 = (a**2 * math.sqrt(3)) / 4\n",
    "\n",
    "print(\"Diện tích tam giác (Bài 7 ):\", S_bai7)\n",
    "print(\"Diện tích tam giác (Bài 8 ):\", S_bai8)\n",
    "\n",
    "\n",
    "if abs(S_bai7 - S_bai8) < 1e-6:\n",
    "    print(\" Kết quả Bài 7 và Bài 8 giống nhau.\")\n",
    "else:\n",
    "    print(\" Kết quả Bài 7 và Bài 8 khác nhau.\")\n"
   ]
  },
  {
   "cell_type": "code",
   "execution_count": 41,
   "id": "30b6e88a",
   "metadata": {},
   "outputs": [
    {
     "name": "stdout",
     "output_type": "stream",
     "text": [
      "Diện tích căn phòng là: 27.900000000000002 m²\n"
     ]
    }
   ],
   "source": [
    "#Bài 10\n",
    "\n",
    "width = float(input(\"Nhập chiều rộng căn phòng (m): \"))\n",
    "length = float(input(\"Nhập chiều dài căn phòng (m): \"))\n",
    "\n",
    "area = width * length\n",
    "print(\"Diện tích căn phòng là:\", area, \"m²\")\n"
   ]
  },
  {
   "cell_type": "code",
   "execution_count": 42,
   "id": "5c806f33",
   "metadata": {},
   "outputs": [
    {
     "name": "stdout",
     "output_type": "stream",
     "text": [
      "Diện tích cánh đồng là: 0.9641873278236914 mẫu Anh\n"
     ]
    }
   ],
   "source": [
    "#Bài 11\n",
    "\n",
    "width = float(input(\"Nhập chiều rộng cánh đồng (m): \"))\n",
    "length = float(input(\"Nhập chiều dài cánh đồng (m): \"))\n",
    "\n",
    "area_m2 = width * length\n",
    "area_acre = area_m2 / 43560  \n",
    "\n",
    "print(\"Diện tích cánh đồng là:\", area_acre, \"mẫu Anh\")\n"
   ]
  },
  {
   "cell_type": "code",
   "execution_count": 43,
   "id": "5e920c77",
   "metadata": {},
   "outputs": [
    {
     "name": "stdout",
     "output_type": "stream",
     "text": [
      "Tiền bữa ăn: 100000.00 VND\n",
      "Thuế (5%): 5000.00 VND\n",
      "Tiền boa (18%): 18000.00 VND\n",
      "Tổng cộng: 123000.00 VND\n"
     ]
    }
   ],
   "source": [
    "#Bài 12\n",
    "\n",
    "meal_cost = float(input(\"Nhập chi phí bữa ăn (VND): \"))\n",
    "\n",
    "tax = meal_cost * 0.05   \n",
    "tip = meal_cost * 0.18   \n",
    "total = meal_cost + tax + tip\n",
    "\n",
    "print(\"Tiền bữa ăn: {:.2f} VND\".format(meal_cost))\n",
    "print(\"Thuế (5%): {:.2f} VND\".format(tax))\n",
    "print(\"Tiền boa (18%): {:.2f} VND\".format(tip))\n",
    "print(\"Tổng cộng: {:.2f} VND\".format(total))\n"
   ]
  },
  {
   "cell_type": "code",
   "execution_count": 48,
   "id": "a8b7bae6",
   "metadata": {},
   "outputs": [
    {
     "name": "stdout",
     "output_type": "stream",
     "text": [
      "10.0\n"
     ]
    }
   ],
   "source": [
    "#Bài 13\n",
    "n = int(input(\"Nhập số nguyên dương n: \"))\n",
    "tong = n * (n + 1) / 2\n",
    "print(tong)\n"
   ]
  },
  {
   "cell_type": "code",
   "execution_count": null,
   "id": "4db4b1e4",
   "metadata": {},
   "outputs": [
    {
     "name": "stdout",
     "output_type": "stream",
     "text": [
      "Tổng a + b = 13\n",
      "Hiệu a - b = 7\n",
      "Tích a * b = 30\n",
      "Thương a / b = 3.3333333333333335\n",
      "Phần dư a % b = 1\n",
      "log10(a) = 1.0\n",
      "a^b = 1000\n"
     ]
    }
   ],
   "source": [
    "#Bài 14\n",
    "import math\n",
    "\n",
    "a = int(input(\"Nhập số nguyên a: \"))\n",
    "b = int(input(\"Nhập số nguyên b: \"))\n",
    "\n",
    "print(a + b)\n",
    "print(a - b)\n",
    "print(a * b)\n",
    "print(a / b)\n",
    "print(a % b)\n",
    "print(math.log10(a))\n",
    "print(a ** b)\n"
   ]
  },
  {
   "cell_type": "code",
   "execution_count": null,
   "id": "184850dc",
   "metadata": {},
   "outputs": [],
   "source": [
    "#Bài 15\n",
    "M = float(input(\"Nhập khối lượng nước (gram): \"))\n",
    "dT = float(input(\"Nhập ΔT (độ C): \"))\n",
    "C = 4.186\n",
    "Q = M * C * dT\n",
    "print(Q)\n",
    "kWh = Q * 2.777e-7\n",
    "cost = kWh * 8.9\n",
    "print(cost)"
   ]
  },
  {
   "cell_type": "code",
   "execution_count": null,
   "id": "33c25145",
   "metadata": {},
   "outputs": [],
   "source": [
    "#Bài 16\n",
    "import math\n",
    "d = float(input(\"Nhập độ cao (m): \"))\n",
    "a = 9.8\n",
    "vi = 0\n",
    "vf = math.sqrt(vi**2 + 2*a*d)\n",
    "print(vf)\n"
   ]
  },
  {
   "cell_type": "code",
   "execution_count": 46,
   "id": "24669b06-e712-40f5-8fd7-daa5bfebe12f",
   "metadata": {},
   "outputs": [
    {
     "ename": "ValueError",
     "evalue": "could not convert string to float: ''",
     "output_type": "error",
     "traceback": [
      "\u001b[1;31m---------------------------------------------------------------------------\u001b[0m",
      "\u001b[1;31mValueError\u001b[0m                                Traceback (most recent call last)",
      "Cell \u001b[1;32mIn[46], line 2\u001b[0m\n\u001b[0;32m      1\u001b[0m \u001b[38;5;66;03m#Bài 17\u001b[39;00m\n\u001b[1;32m----> 2\u001b[0m Ta \u001b[38;5;241m=\u001b[39m \u001b[38;5;28mfloat\u001b[39m(\u001b[38;5;28minput\u001b[39m(\u001b[38;5;124m\"\u001b[39m\u001b[38;5;124mNhập nhiệt độ không khí (°C): \u001b[39m\u001b[38;5;124m\"\u001b[39m))\n\u001b[0;32m      3\u001b[0m V \u001b[38;5;241m=\u001b[39m \u001b[38;5;28mfloat\u001b[39m(\u001b[38;5;28minput\u001b[39m(\u001b[38;5;124m\"\u001b[39m\u001b[38;5;124mNhập tốc độ gió (km/h): \u001b[39m\u001b[38;5;124m\"\u001b[39m))\n\u001b[0;32m      4\u001b[0m WCI \u001b[38;5;241m=\u001b[39m \u001b[38;5;241m13.12\u001b[39m \u001b[38;5;241m+\u001b[39m \u001b[38;5;241m0.6215\u001b[39m\u001b[38;5;241m*\u001b[39mTa \u001b[38;5;241m-\u001b[39m \u001b[38;5;241m11.37\u001b[39m\u001b[38;5;241m*\u001b[39m(V\u001b[38;5;241m*\u001b[39m\u001b[38;5;241m*\u001b[39m\u001b[38;5;241m0.16\u001b[39m) \u001b[38;5;241m+\u001b[39m \u001b[38;5;241m0.3965\u001b[39m\u001b[38;5;241m*\u001b[39mTa\u001b[38;5;241m*\u001b[39m(V\u001b[38;5;241m*\u001b[39m\u001b[38;5;241m*\u001b[39m\u001b[38;5;241m0.16\u001b[39m)\n",
      "\u001b[1;31mValueError\u001b[0m: could not convert string to float: ''"
     ]
    }
   ],
   "source": [
    "#Bài 17\n",
    "Ta = float(input(\"Nhập nhiệt độ không khí (°C): \"))\n",
    "V = float(input(\"Nhập tốc độ gió (km/h): \"))\n",
    "WCI = 13.12 + 0.6215*Ta - 11.37*(V**0.16) + 0.3965*Ta*(V**0.16)\n",
    "print(round(WCI))\n"
   ]
  }
 ],
 "metadata": {
  "kernelspec": {
   "display_name": "base",
   "language": "python",
   "name": "python3"
  },
  "language_info": {
   "codemirror_mode": {
    "name": "ipython",
    "version": 3
   },
   "file_extension": ".py",
   "mimetype": "text/x-python",
   "name": "python",
   "nbconvert_exporter": "python",
   "pygments_lexer": "ipython3",
   "version": "3.13.5"
  }
 },
 "nbformat": 4,
 "nbformat_minor": 5
}
